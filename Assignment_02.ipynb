{
  "nbformat": 4,
  "nbformat_minor": 0,
  "metadata": {
    "colab": {
      "provenance": []
    },
    "kernelspec": {
      "name": "python3",
      "display_name": "Python 3"
    },
    "language_info": {
      "name": "python"
    }
  },
  "cells": [
    {
      "cell_type": "markdown",
      "source": [
        "Theory Question (Data Types And Structure)\n",
        "\n",
        "1.What are data structures, and why are they important.\n",
        "- Data structure are specialsed for organising ,storing and\n",
        "  accessing data element.\n",
        "  eg- Assume assuming a container which holds data and\n",
        "      determine how you can interact with it.\n",
        "\n",
        "  Importance of Data Structure :\n",
        "  a] simplicity in data manipulation\n",
        "     eg- adding , removing , modifying\n",
        "  b] Optimize searching and sorting operation\n",
        "  c] conserve memory usage\n",
        "\n",
        "2.Explain the difference between mutable and immutable data   \n",
        "  types with examples?\n",
        "- Mutable- It means data which can be changed .\n",
        "  eg- list , string , set\n",
        "  list1=[1,2,3,4,\"shubham\",\"true\"]\n",
        "  list1.append(\"shayam\")\n",
        "  o/p- [1,2,3,4,\"shubham\",\"true\",\"shyam\"]\n",
        "  \n",
        "  Immutable- Data which can not be modified or changed .\n",
        "  eg- Tuple\n",
        "  Tuple1=(1,2,3,4)\n",
        "  Tuple1[0]=8// it will throws error, tuple object does not\n",
        "  support item assignment .\n",
        "\n",
        "3.What are the main differences between lists and tuples in\n",
        "  Python3?\n",
        "- The main difference between List and Tuples are-\n",
        "  a) list can be appended\n",
        "  b) Tuple can not be appended.\n",
        "  d) Tuples are slightly faster to iterate than list.\n",
        "\n",
        "4. Describe how dictionaries store data?.\n",
        "-  Data are stored in the form of key-value pair\n",
        "   eg- my_dict={'name':'ajay','age':40,'city':'patna'}\n",
        "   my_dict['name']//accessing name\n",
        "   my_dict['age']// accessing age\n",
        "   my_dict['occupation']='student'\n",
        "   //adding key-value pair\n",
        "   my_dict['age']=41// modifying a value\n",
        "   del my_dict['city']\n",
        "   my_dict\n",
        "   o/p- ['name':'ajay','age':30]\n",
        "\n",
        "5. Why might you use a set instead of a list in Python?\n",
        "-  a] unique element\n",
        "      set have unique collection of data .\n",
        "   b] Ease in membership testing due to unique collection of\n",
        "      data.\n",
        "   c] set support operation like union,intersection and   \n",
        "      symmetic difference.\n",
        "   d] sets are faster .\n",
        "   e] sets uses Hash table for implementation\n",
        "\n",
        "   List:\n",
        "   a] ordered D/s\n",
        "   b] duplicate values are allowed\n",
        "   c] slower in membership testing\n",
        "   d] No direct mathematical operations allowed.\n",
        "   e] list uses dynamic array for implementation.\n",
        "\n",
        "6. What is a string in Python, and how is it different from a\n",
        "   list?\n",
        "-  strings are immutable and ordered collection of data\n",
        "   whereas list are mutable ordered collection of data.\n",
        "   eg- my_string=\"hello\"\n",
        "       my_string[0]= 'H' // error - strings are immutable\n",
        "\n",
        "       my_list=[1,2,3]\n",
        "       my_list[0]=10 // allow modification\n",
        "    \n",
        "    b] strings are sequential collection of character but\n",
        "       but list are heterogenous collection of data.\n",
        "    eg- string1= 'abhijeet'\n",
        "        list1=[1,2]\n",
        "       \n",
        "7. How do tuples ensure Data integrity in python?\n",
        "-  tuples are immutable (unhashable). so they ensure data\n",
        "   intergrity in python.\n",
        "   in tuples we can not add, remove, the element of tuples\n",
        "   once it is created. This property makes the tuples crucial in context to data intergrity.\n",
        "\n",
        "   key aspects:\n",
        "   Prevent accidental modification:\n",
        "   if we pass a tuple to a funcation or write tuple with\n",
        "   the code then it is ensured that there will be no any change made in the original tuple unintentionally.\n",
        "\n",
        "8. What is a hash table, and how does it relate to\n",
        "   dictionaries in Python?\n",
        "-  A Hash table is data structure that implements an associative array for\n",
        "   mapping of keys to values. This process is done with the help of Hash funcation and this funcation compute the index into array of bucket from which desired value is recovered. This hash funcation assigned unique hash code.\n",
        "   The dictionary data structure is implemented using Hash table . It means that when a dictionary is created and add key value pair , internally hash funcation is used to determine where the value in memory need to stored corresponding to each keys.\n",
        "\n",
        "9. Can lists contain different data types in Python?\n",
        "-  yes, list can contain different data types in python\n",
        "   because list are heterogenous.\n",
        "   eg- my_list=[1,2,'rakesh',2.4,[1,2,3],True]\n",
        "\n",
        "10.Explain why strings are immutable in Python.\n",
        "-  Strings are immutable in python due to following reason\n",
        "  - predictability and reliability\n",
        "  - improved efficiency\n",
        "  - performance optimization.\n",
        "    immutability enables optimization such as faster hashing\n",
        "    and dictionary lookup.\n",
        "  - Data integrity-\n",
        "    Immutability ensures strings data remains consistent through out the program preventing from data corruption.\n",
        "\n",
        "11. What advantages do dictionaries offer over lists for   \n",
        "    certain tasks?\n",
        "-   Following points provide dictionaries edge over list\n",
        "\n",
        "    - Fast Lookup (accessing Data by key)\n",
        "      data retrieval speed in dictionary is high as compared\n",
        "      to list . dictionaries implement hash table concept while data retrieval .\n",
        "      eg- my_dict['key'] average time complexity is o(1) for each element. whereas average time complexity in list is 0(n). n= no of element in list.\n",
        "    \n",
        "    - Associative array-\n",
        "      (mapping keys to value)\n",
        "      dictionary store data in key-value pair. Specific key is labelled to particular piece of data value . list stored data in sequence and access element based on index position. Element in list are accessed through iterating the element in list .\n",
        "    \n",
        "    - No ordered gurantee- Dictionaries are unordered data    \n",
        "      structure . The primary way of interacting element in dictionaries is via key..In list primary method for accessing element is done with the help of index.\n",
        "12. Describe a scenario where using a tuple would be\n",
        "    preferable over a list.\n",
        "-   - Geographical coordinates(Latitude, Longitude)\n",
        "    - A date :(year , month , day)\n",
        "    - An RGB color value :Red Green Blue\n",
        "    - A data base record header (ID, Name,email)\n",
        "    eg- {(40.7128,-74.0060): 'new york City'}\n",
        "\n",
        "13. How do sets handle duplicate values in Python.\n",
        "-   my.set={1,1,1,2,2,2,3,3,3}\n",
        "    my_set\n",
        "    o/p- {1,2,3}// unique value displayed\n",
        "\n",
        "14. How does the “in” keyword work differently for lists and\n",
        "   dictionaries?\n",
        "-  eg- my_list=[1,2,'apple',True]\n",
        "        print(2 in my_list)\n",
        "    \n",
        "    True // 2 is present in the list.\n",
        "\n",
        "        print(banana in my_list)\n",
        "\n",
        "    False .\n",
        "\n",
        "    student=['arun','ajay','bijay']\n",
        "    marks=[80,90,100]\n",
        "      {student:marksfor student,marks in zip(student,marks)}\n",
        "\n",
        "      {'ajay':80,'bijay':20,'arun':100}\n",
        "15. Can you modify the elements of a tuple? Explain why or\n",
        "    why not.\n",
        "\n",
        "-   No, we can not modify the element of tuple once created.\n",
        "\n",
        "    eg- my_tuple=(10,'apple',True)\n",
        "        my_tuple[0]= 20 // Error will be thrown: object does not support item assignment .\n",
        "\n",
        "16.What is a nested dictionary, and give an example of its\n",
        "   use case.\n",
        "\n",
        "-  dictionary inside dictionary is called nested dictionary.\n",
        "\n",
        "    eg- use case\n",
        "\n",
        "        student_data={ 'student1':{'name':'subodh','age':30},\n",
        "\n",
        "                      'student2':{'name':'roy','age':35}}\n",
        "\n",
        "        print(student_data[student1]['name])\n",
        "        print(student_data[student2]['age])\n",
        "17.Describe the time complexity of accessing elements in a    \n",
        "   dictionary.\n",
        "-  my_student={'name':'ajay','age':30,'city':'patna}\n",
        "   my_student['name']\n",
        "   my_student['age']\n",
        "\n",
        "   time complexitiy while accessing element in dictionary is\n",
        "   0[1]. Means accessing time of each element in dictioanry my_student remains same due to key-value pairs. Each key of dictionary is assigned with hash code using hash table.Therefore , 0[1] time constant required for retrieval of each key using Hash code .\n",
        "\n",
        "18.In what situations are lists preferred over dictionaries?\n",
        "\n",
        "-  List preffered over dictionary over following points\n",
        "\n",
        "  - when order of element is significant\n",
        "  - To store duplicate element\n",
        "  - Required to access element using index\n",
        "  - when data is simple , sequential collection without   \n",
        "    key-value pairs.\n",
        "\n",
        "19. Why are dictionaries considered unordered, and how does\n",
        "    that affect data retrieval?\n",
        "-   eg-\n",
        "    my_dict={'name':'roy','age':30,'city':'patna','mobile':1234}\n",
        "    for key, value in my_dict.items:\n",
        "     print(key,value)\n",
        "    In above example, elements are accessed using key value pair.so if iterated we attained element in unordered pattern due to absence of index no .\n",
        "    print(my_dict[0])// error will be raised stating dictionaries did not have integer value.\n",
        "\n",
        "20. Explain the difference between a list and a dictionary in terms of data\n",
        "    retrieval.\n",
        "-   Data retrieval in List:\n",
        "    my_list=[1,2,3,4,5,6]\n",
        "    for i in range(len(my_list)):\n",
        "        print(my_list[i],end=\" \")\n",
        "\n",
        "    Here data retrieval in list done based on index in ordered manner.\n",
        "\n",
        "    Data retrieval in dictionary:\n",
        "\n",
        "    My_dict={'name':'raj','age':30,'city':'patna')\n",
        "\n",
        "    for key,value in my_dict.items():\n",
        "    print(key,value).\n",
        "\n",
        "\n",
        "\n",
        "\n",
        "\n"
      ],
      "metadata": {
        "id": "5npZ_7yV65iw"
      }
    },
    {
      "cell_type": "code",
      "source": [
        "# 1)Write a code to create a string with your name and print it.\n",
        "\n",
        "str_name =\"abhijeet\"\n",
        "print(str_name)"
      ],
      "metadata": {
        "colab": {
          "base_uri": "https://localhost:8080/"
        },
        "id": "uNB0gnAhNUvB",
        "outputId": "1442a32e-055c-44ee-bcbb-a3dca1c19c5e"
      },
      "execution_count": null,
      "outputs": [
        {
          "output_type": "stream",
          "name": "stdout",
          "text": [
            "abhijeet\n"
          ]
        }
      ]
    },
    {
      "cell_type": "code",
      "source": [
        "#2)Write a code to find the length of the string \"Hello World\".\n",
        "\n",
        "str_len= \"Hello World\"\n",
        "len(str_len)"
      ],
      "metadata": {
        "colab": {
          "base_uri": "https://localhost:8080/"
        },
        "id": "5hdtkWVmNfSY",
        "outputId": "16ba7cbc-22fb-4d2e-a301-e7a77cb33c75"
      },
      "execution_count": null,
      "outputs": [
        {
          "output_type": "execute_result",
          "data": {
            "text/plain": [
              "11"
            ]
          },
          "metadata": {},
          "execution_count": 69
        }
      ]
    },
    {
      "cell_type": "code",
      "source": [
        "#3)Write a code to slice the first 3 characters from the string \"Python Programming.\n",
        "\n",
        "str_slice= \"Python Programming\"\n",
        "str_slice[0:3]"
      ],
      "metadata": {
        "colab": {
          "base_uri": "https://localhost:8080/",
          "height": 35
        },
        "id": "y70ndnM4NqSe",
        "outputId": "efd41a33-7250-4101-a319-8a7a1e106d41"
      },
      "execution_count": null,
      "outputs": [
        {
          "output_type": "execute_result",
          "data": {
            "text/plain": [
              "'Pyt'"
            ],
            "application/vnd.google.colaboratory.intrinsic+json": {
              "type": "string"
            }
          },
          "metadata": {},
          "execution_count": 71
        }
      ]
    },
    {
      "cell_type": "code",
      "source": [
        "#4)Write a code to convert the string \"hello\" to uppercase\n",
        "\n",
        "str_upper=\"hello\"\n",
        "str_upper.upper()"
      ],
      "metadata": {
        "colab": {
          "base_uri": "https://localhost:8080/",
          "height": 35
        },
        "id": "1UjwiH67N_oU",
        "outputId": "a923ecbf-cbeb-41a2-8b18-8e6675f82f0b"
      },
      "execution_count": null,
      "outputs": [
        {
          "output_type": "execute_result",
          "data": {
            "text/plain": [
              "'HELLO'"
            ],
            "application/vnd.google.colaboratory.intrinsic+json": {
              "type": "string"
            }
          },
          "metadata": {},
          "execution_count": 73
        }
      ]
    },
    {
      "cell_type": "code",
      "source": [
        "#5)Write a code to replace the word \"apple\" with \"orange\" in the string \"I like apple\".\n",
        "\n",
        "str1= \"I Like apple\"\n",
        "str1.replace(\"apple\",\"orange\")"
      ],
      "metadata": {
        "colab": {
          "base_uri": "https://localhost:8080/",
          "height": 35
        },
        "id": "uwCwc-x_OSl3",
        "outputId": "14e344aa-052d-4b84-fb6d-b4f1725b84a2"
      },
      "execution_count": null,
      "outputs": [
        {
          "output_type": "execute_result",
          "data": {
            "text/plain": [
              "'I Like orange'"
            ],
            "application/vnd.google.colaboratory.intrinsic+json": {
              "type": "string"
            }
          },
          "metadata": {},
          "execution_count": 75
        }
      ]
    },
    {
      "cell_type": "code",
      "source": [
        "#6)Write a code to create a list with numbers 1 to 5 and print it.\n",
        "\n",
        "list1=[1,2,3,4]\n",
        "print(list1)"
      ],
      "metadata": {
        "colab": {
          "base_uri": "https://localhost:8080/"
        },
        "id": "u2yNlW9YOvC9",
        "outputId": "0dc28005-71e4-4f3a-b0d9-2d19bce1772b"
      },
      "execution_count": null,
      "outputs": [
        {
          "output_type": "stream",
          "name": "stdout",
          "text": [
            "[1, 2, 3, 4]\n"
          ]
        }
      ]
    },
    {
      "cell_type": "code",
      "source": [
        "#7)Write a code to append the number 10 to the list [1, 2, 3, 4]P\n",
        "\n",
        "list2=[1,2,3,4]\n",
        "list2.append(10)\n",
        "list2"
      ],
      "metadata": {
        "colab": {
          "base_uri": "https://localhost:8080/"
        },
        "id": "6xaVwZVTPNO6",
        "outputId": "9f20120c-87df-490d-f0f9-546bf0a46035"
      },
      "execution_count": null,
      "outputs": [
        {
          "output_type": "execute_result",
          "data": {
            "text/plain": [
              "[1, 2, 3, 4, 10]"
            ]
          },
          "metadata": {},
          "execution_count": 77
        }
      ]
    },
    {
      "cell_type": "code",
      "source": [
        "#8)Write a code to remove the number 3 from the list [1, 2, 3, 4, 5].\n",
        "\n",
        "list3=[1,2,3,4,5]\n",
        "list3.remove(3)\n",
        "list3"
      ],
      "metadata": {
        "colab": {
          "base_uri": "https://localhost:8080/"
        },
        "id": "icM88UJzPbzz",
        "outputId": "94cafeec-195a-483a-b994-5b25adf4e3df"
      },
      "execution_count": null,
      "outputs": [
        {
          "output_type": "execute_result",
          "data": {
            "text/plain": [
              "[1, 2, 4, 5]"
            ]
          },
          "metadata": {},
          "execution_count": 78
        }
      ]
    },
    {
      "cell_type": "code",
      "source": [
        "#9)Write a code to access the second element in the list ['a', 'b', 'c', 'd'].\n",
        "\n",
        "list4=['a','b','c','d']\n",
        "list4[1]"
      ],
      "metadata": {
        "colab": {
          "base_uri": "https://localhost:8080/",
          "height": 35
        },
        "id": "-RfZdV53P3Hj",
        "outputId": "ce5bf95a-988a-4ca8-ca44-3ca84d6b2115"
      },
      "execution_count": null,
      "outputs": [
        {
          "output_type": "execute_result",
          "data": {
            "text/plain": [
              "'b'"
            ],
            "application/vnd.google.colaboratory.intrinsic+json": {
              "type": "string"
            }
          },
          "metadata": {},
          "execution_count": 80
        }
      ]
    },
    {
      "cell_type": "code",
      "source": [
        "#10) Write a code to reverse the list [10, 20, 30, 40, 50].\n",
        "\n",
        "list5=[1,2,3,4,5]\n",
        "list5.reverse() # list5[::-1]\n",
        "list5\n",
        "list5[::-1]\n",
        "list5"
      ],
      "metadata": {
        "colab": {
          "base_uri": "https://localhost:8080/"
        },
        "id": "W6oIojrZQIK_",
        "outputId": "301ce90d-0407-4978-9175-d53b1224e4b2"
      },
      "execution_count": null,
      "outputs": [
        {
          "output_type": "execute_result",
          "data": {
            "text/plain": [
              "[5, 4, 3, 2, 1]"
            ]
          },
          "metadata": {},
          "execution_count": 84
        }
      ]
    },
    {
      "cell_type": "code",
      "source": [
        "#11)Write a code to create a tuple with the elements 100, 200, 300 and print it\n",
        "\n",
        "tuple1=(100,200,300)\n",
        "print(tuple1)"
      ],
      "metadata": {
        "colab": {
          "base_uri": "https://localhost:8080/"
        },
        "id": "S3_5jMd8QWKQ",
        "outputId": "ae0f2181-5c5c-4f37-c377-f8624ea7edb8"
      },
      "execution_count": null,
      "outputs": [
        {
          "output_type": "stream",
          "name": "stdout",
          "text": [
            "(100, 200, 300)\n"
          ]
        }
      ]
    },
    {
      "cell_type": "code",
      "source": [
        "#12)Write a code to access the second-to-last element of the tuple ('red', 'green', 'blue', 'yellow')\n",
        "\n",
        "tuple2=('red','green','blue','yellow')\n",
        "\n",
        "for i in tuple2:\n",
        "  if i!=\"red\":\n",
        "    print(i,end=\" \")\n",
        "\n"
      ],
      "metadata": {
        "colab": {
          "base_uri": "https://localhost:8080/"
        },
        "id": "jXzUsUscRDTX",
        "outputId": "019fe2c1-49b7-46f4-e0f3-a259557c20a9"
      },
      "execution_count": null,
      "outputs": [
        {
          "output_type": "stream",
          "name": "stdout",
          "text": [
            "green blue yellow "
          ]
        }
      ]
    },
    {
      "cell_type": "code",
      "source": [
        "#13)Write a code to find the minimum number in the tuple (10, 20, 5, 15).\n",
        "\n",
        "tuple5= (10,20,5,15)\n",
        "min_val=min(tuple5)\n",
        "print(min_val)\n"
      ],
      "metadata": {
        "colab": {
          "base_uri": "https://localhost:8080/"
        },
        "id": "9NbHeFAXRn-e",
        "outputId": "ddc8b5ac-3810-45b0-9282-0751f5954777"
      },
      "execution_count": null,
      "outputs": [
        {
          "output_type": "stream",
          "name": "stdout",
          "text": [
            "5\n"
          ]
        }
      ]
    },
    {
      "cell_type": "code",
      "source": [
        "#14)Write a code to find the index of the element \"cat\" in the tuple ('dog', 'cat', 'rabbit').\n",
        "\n",
        "tuple6=('dog','cat','rabbit')\n",
        "print(f\"index of cat is:{tuple6.index('cat')}\")"
      ],
      "metadata": {
        "colab": {
          "base_uri": "https://localhost:8080/"
        },
        "id": "TlCMREnXTmx5",
        "outputId": "09429aa4-2a41-4b55-d9a0-2999b50c347a"
      },
      "execution_count": null,
      "outputs": [
        {
          "output_type": "stream",
          "name": "stdout",
          "text": [
            "index of cat is:1\n"
          ]
        }
      ]
    },
    {
      "cell_type": "code",
      "source": [
        "#15) Write a code to create a tuple containing three different fruits and check if \"kiwi\" is in it.\n",
        "\n",
        "tuple7=('apple','orange','banana','kiwi')\n",
        "print(\"kiwi\" in tuple7)\n",
        "\n",
        "\n",
        "\n"
      ],
      "metadata": {
        "colab": {
          "base_uri": "https://localhost:8080/"
        },
        "id": "UNDDSya6UZ2Y",
        "outputId": "fcdb06e8-1775-4198-974c-41e1516dbb95"
      },
      "execution_count": null,
      "outputs": [
        {
          "output_type": "stream",
          "name": "stdout",
          "text": [
            "True\n"
          ]
        }
      ]
    },
    {
      "cell_type": "code",
      "source": [
        "#16)Write a code to create a set with the elements 'a', 'b', 'c' and print it.\n",
        "\n",
        "set1={'a','b','c'}\n",
        "print(set1,type(set1))"
      ],
      "metadata": {
        "colab": {
          "base_uri": "https://localhost:8080/"
        },
        "id": "KgZkFDOJVyIm",
        "outputId": "396041c7-b4bf-49c0-9cab-b11845567a04"
      },
      "execution_count": null,
      "outputs": [
        {
          "output_type": "stream",
          "name": "stdout",
          "text": [
            "{'a', 'c', 'b'} <class 'set'>\n"
          ]
        }
      ]
    },
    {
      "cell_type": "code",
      "source": [
        "#17)Write a code to clear all elements from the set {1, 2, 3, 4, 5}.\n",
        "\n",
        "set1={1,2,3,4,5}\n",
        "set1.clear()\n",
        "set1"
      ],
      "metadata": {
        "colab": {
          "base_uri": "https://localhost:8080/"
        },
        "id": "tcmBehLdWq_z",
        "outputId": "d057a9dc-281a-40c5-c6d8-d3f948b31ab8"
      },
      "execution_count": null,
      "outputs": [
        {
          "output_type": "execute_result",
          "data": {
            "text/plain": [
              "set()"
            ]
          },
          "metadata": {},
          "execution_count": 2
        }
      ]
    },
    {
      "cell_type": "code",
      "source": [
        "#18)Write a code to remove the element 4 from the set {1, 2, 3, 4}.\n",
        "\n",
        "set2= {1,2,3,4,5}\n",
        "set2.remove(4)\n",
        "set2\n"
      ],
      "metadata": {
        "colab": {
          "base_uri": "https://localhost:8080/"
        },
        "id": "kXa3VEwSBDEu",
        "outputId": "b56601ae-7ec2-4ce1-ec88-d212657288ed"
      },
      "execution_count": null,
      "outputs": [
        {
          "output_type": "execute_result",
          "data": {
            "text/plain": [
              "{1, 2, 3, 5}"
            ]
          },
          "metadata": {},
          "execution_count": 3
        }
      ]
    },
    {
      "cell_type": "code",
      "source": [
        "#19)Write a code to find the union of two sets {1, 2, 3} and {3, 4, 5}.\n",
        "\n",
        "set3={1,2,3}\n",
        "set4={3,4,5}\n",
        "set3.union(set4)\n"
      ],
      "metadata": {
        "colab": {
          "base_uri": "https://localhost:8080/"
        },
        "id": "YKBLpXprBenj",
        "outputId": "7b3b837a-a582-4a9b-a90a-4f8d26aa1244"
      },
      "execution_count": null,
      "outputs": [
        {
          "output_type": "execute_result",
          "data": {
            "text/plain": [
              "{1, 2, 3, 4, 5}"
            ]
          },
          "metadata": {},
          "execution_count": 5
        }
      ]
    },
    {
      "cell_type": "code",
      "source": [
        "#20) Write a code to find the intersection of two sets {1, 2, 3} and {2, 3, 4}.\n",
        "\n",
        "set5={1,2,3}\n",
        "set6={2,3,4}\n",
        "set5.intersection(set6)\n"
      ],
      "metadata": {
        "colab": {
          "base_uri": "https://localhost:8080/"
        },
        "id": "JTuFKTmhB0Nf",
        "outputId": "72f65d0d-ed28-4eaf-9c1f-ab6a659d8a64"
      },
      "execution_count": null,
      "outputs": [
        {
          "output_type": "execute_result",
          "data": {
            "text/plain": [
              "{2, 3}"
            ]
          },
          "metadata": {},
          "execution_count": 6
        }
      ]
    },
    {
      "cell_type": "code",
      "source": [
        "#21)Write a code to create a dictionary with the keys \"name\", \"age\", and \"city\", and print it.\n",
        "\n",
        "dict1={\"name\":\"ajay\",\"age\":50,\"city\":\"patna\"}\n",
        "dict1.keys()"
      ],
      "metadata": {
        "id": "Mz_i_xN1CHCL",
        "colab": {
          "base_uri": "https://localhost:8080/"
        },
        "outputId": "d5a7553e-e367-42bc-bf45-f291ccbe1e44"
      },
      "execution_count": null,
      "outputs": [
        {
          "output_type": "execute_result",
          "data": {
            "text/plain": [
              "dict_keys(['name', 'age', 'city'])"
            ]
          },
          "metadata": {},
          "execution_count": 7
        }
      ]
    },
    {
      "cell_type": "code",
      "source": [
        "#22)Write a code to add a new key-value pair \"country\": \"USA\" to the dictionary {'name': 'John', 'age': 25}.\n",
        "\n",
        "dict2={\"name\":\"john\",\"age\":25}\n",
        "dict2[\"country\"]=\"USA\"\n",
        "dict2"
      ],
      "metadata": {
        "id": "uflzDe7NCzrO",
        "colab": {
          "base_uri": "https://localhost:8080/"
        },
        "outputId": "dafb6916-2e57-458d-d9de-a2eb4b589c55"
      },
      "execution_count": null,
      "outputs": [
        {
          "output_type": "execute_result",
          "data": {
            "text/plain": [
              "{'name': 'john', 'age': 25, 'country': 'USA'}"
            ]
          },
          "metadata": {},
          "execution_count": 11
        }
      ]
    },
    {
      "cell_type": "code",
      "source": [
        "#23)Write a code to access the value associated with the key \"name\" in the dictionary {'name': 'Alice', 'age': 30}.\n",
        "\n",
        "\n",
        "dict3={'name':\"Alice\",\"age\":30}\n",
        "dict3[\"name\"]\n",
        "\n"
      ],
      "metadata": {
        "colab": {
          "base_uri": "https://localhost:8080/",
          "height": 35
        },
        "id": "EnKpFc0oDjpD",
        "outputId": "39bca627-984b-405a-d01c-3c9839aaa03f"
      },
      "execution_count": null,
      "outputs": [
        {
          "output_type": "execute_result",
          "data": {
            "text/plain": [
              "'Alice'"
            ],
            "application/vnd.google.colaboratory.intrinsic+json": {
              "type": "string"
            }
          },
          "metadata": {},
          "execution_count": 13
        }
      ]
    },
    {
      "cell_type": "code",
      "source": [
        "#24) Write a code to remove the key \"age\" from the dictionary {'name': 'Bob', 'age': 22, 'city': 'New York'}\n",
        "\n",
        "dict4={'name':'Bob','age':22,'city':'New York'}\n",
        "dict4.pop(\"age\")\n",
        "dict4"
      ],
      "metadata": {
        "colab": {
          "base_uri": "https://localhost:8080/"
        },
        "id": "bLZWuBnPEdqX",
        "outputId": "7f5a52e4-7228-4a42-c1e6-9825723f46df"
      },
      "execution_count": null,
      "outputs": [
        {
          "output_type": "execute_result",
          "data": {
            "text/plain": [
              "{'name': 'Bob', 'city': 'New York'}"
            ]
          },
          "metadata": {},
          "execution_count": 24
        }
      ]
    },
    {
      "cell_type": "code",
      "source": [
        "#25)Write a code to remove the key \"age\" from the dictionary {'name': 'Bob', 'age': 22, 'city': 'New York'}.\n",
        "\n",
        "dict5={'name':'Alice','city':'Paris'}\n",
        "'city' in dict5"
      ],
      "metadata": {
        "colab": {
          "base_uri": "https://localhost:8080/"
        },
        "id": "gcWFtjJqFMS3",
        "outputId": "014d665f-f1a7-4256-ca28-d5e3a80b9391"
      },
      "execution_count": null,
      "outputs": [
        {
          "output_type": "execute_result",
          "data": {
            "text/plain": [
              "True"
            ]
          },
          "metadata": {},
          "execution_count": 27
        }
      ]
    },
    {
      "cell_type": "markdown",
      "source": [],
      "metadata": {
        "id": "WunSdYniIKfk"
      }
    },
    {
      "cell_type": "code",
      "source": [
        "#26)Write a code to check if the key \"city\" exists in the dictionary {'name': 'Alice', 'city': 'Paris'}.\n",
        "\n",
        "# Create a list\n",
        "\n",
        "my_list = [1, 2, 3, \"apple\", False]\n",
        "\n",
        "# Create a tuple\n",
        "my_tuple = (10, 20, 30, \"banana\", True)\n",
        "\n",
        "# Create a dictionary\n",
        "my_dict = {\"name\": \"Alice\", \"age\": 30, \"city\": \"New York\"}\n",
        "\n",
        "# Print all three\n",
        "print(\"My List:\", my_list)\n",
        "print(\"My Tuple:\", my_tuple)\n",
        "print(\"My Dictionary:\", my_dict)\n"
      ],
      "metadata": {
        "colab": {
          "base_uri": "https://localhost:8080/"
        },
        "id": "29MGx_ocGzWQ",
        "outputId": "8314bf99-62c5-42e3-ef2d-8c79678bd8d9"
      },
      "execution_count": null,
      "outputs": [
        {
          "output_type": "stream",
          "name": "stdout",
          "text": [
            "My List: [1, 2, 3, 'apple', False]\n",
            "My Tuple: (10, 20, 30, 'banana', True)\n",
            "My Dictionary: {'name': 'Alice', 'age': 30, 'city': 'New York'}\n"
          ]
        }
      ]
    },
    {
      "cell_type": "code",
      "source": [
        "#27Write a code to create a list, a tuple, and a dictionary, and print them all\n",
        "\n",
        "# write a code to create a list 5 random numbers between 1 to 100 ,sort it in ascending order and print the result\n",
        "import random\n",
        "random_list = [random.randint(1, 100) for _ in range(5)]\n",
        "\n",
        "random_list.sort()\n",
        "print(random_list)\n",
        "print(\"reverse list:\", random_list[::-1])\n"
      ],
      "metadata": {
        "colab": {
          "base_uri": "https://localhost:8080/"
        },
        "id": "myQWmriAI-sa",
        "outputId": "81118ac9-42b9-4bdd-adb0-9d63b6e2b1c1"
      },
      "execution_count": null,
      "outputs": [
        {
          "output_type": "stream",
          "name": "stdout",
          "text": [
            "[49, 65, 69, 83, 94]\n",
            "reverse list: [94, 83, 69, 65, 49]\n"
          ]
        }
      ]
    },
    {
      "cell_type": "code",
      "source": [
        "#28) Write a code to create a list with strings and print the element at the third index.\n",
        "\n",
        "list6=[1,2,3,\"ABHIJEET\"]\n",
        "list6[3]\n"
      ],
      "metadata": {
        "colab": {
          "base_uri": "https://localhost:8080/",
          "height": 35
        },
        "id": "z_6Lall8J01S",
        "outputId": "10ac87d3-79f8-4296-d702-5c8daa0fec96"
      },
      "execution_count": null,
      "outputs": [
        {
          "output_type": "execute_result",
          "data": {
            "text/plain": [
              "'ABHIJEET'"
            ],
            "application/vnd.google.colaboratory.intrinsic+json": {
              "type": "string"
            }
          },
          "metadata": {},
          "execution_count": 37
        }
      ]
    },
    {
      "cell_type": "code",
      "source": [
        "#29)Write a code to combine two dictionaries into one and print the result.\n",
        "dict6={'name':'rahul','age':50,}\n",
        "dict7={'city':'patna','occupation':'engineer'}\n",
        "combine_dict={**dict6,**dict7}\n",
        "print(combine_dict)"
      ],
      "metadata": {
        "colab": {
          "base_uri": "https://localhost:8080/"
        },
        "id": "EA1TXZdTL2i_",
        "outputId": "2230df65-89c6-4c08-aeb5-617ffdc3b7ae"
      },
      "execution_count": null,
      "outputs": [
        {
          "output_type": "stream",
          "name": "stdout",
          "text": [
            "{'name': 'rahul', 'age': 50, 'city': 'patna', 'occupation': 'engineer'}\n"
          ]
        }
      ]
    },
    {
      "cell_type": "code",
      "source": [
        "#30)Write a code to convert a list of strings into a set.\n",
        "\n",
        "list7=['a','b','c','e','f']\n",
        "set7=set(list7)\n",
        "print(set7, type(set7))"
      ],
      "metadata": {
        "colab": {
          "base_uri": "https://localhost:8080/"
        },
        "id": "5FJhXEZ0P_Za",
        "outputId": "ae6593a8-cad8-470b-b9f2-f98268faffcb"
      },
      "execution_count": null,
      "outputs": [
        {
          "output_type": "stream",
          "name": "stdout",
          "text": [
            "{'b', 'f', 'a', 'e', 'c'} <class 'set'>\n"
          ]
        }
      ]
    }
  ]
}